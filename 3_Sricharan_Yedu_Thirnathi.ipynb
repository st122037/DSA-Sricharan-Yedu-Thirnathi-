{
  "nbformat": 4,
  "nbformat_minor": 0,
  "metadata": {
    "colab": {
      "name": "3-Sricharan Yedu Thirnathi.ipynb",
      "provenance": []
    },
    "kernelspec": {
      "name": "python3",
      "display_name": "Python 3"
    },
    "language_info": {
      "name": "python"
    }
  },
  "cells": [
    {
      "cell_type": "code",
      "metadata": {
        "id": "bVXPL_jqeSRZ"
      },
      "source": [
        "import numpy as np\n",
        "import random as rd\n",
        "import time\n",
        "import math\n",
        "import matplotlib.pyplot as plt"
      ],
      "execution_count": 8,
      "outputs": []
    },
    {
      "cell_type": "code",
      "metadata": {
        "id": "5uLZrVGzeVrk"
      },
      "source": [
        "def MaxCrossSubArray(A, low, mid, high):\n",
        "    \n",
        "    leftSum = -math.inf\n",
        "    sum = 0\n",
        "    for i in range(mid, -1, -1):\n",
        "        sum = sum + A[i]\n",
        "        if sum > leftSum:\n",
        "            leftSum = sum\n",
        "            maxLeft = i\n",
        "\n",
        "    rightSum = -math.inf\n",
        "    sum = 0\n",
        "    for j in range(mid+1, high + 1, 1):\n",
        "        sum = sum + A[j]\n",
        "        if sum > rightSum:\n",
        "            rightSum = sum\n",
        "            maxRight = j\n",
        "\n",
        "    return (maxLeft, maxRight, leftSum + rightSum)"
      ],
      "execution_count": 9,
      "outputs": []
    },
    {
      "cell_type": "code",
      "metadata": {
        "id": "jKg2C2x7eYv3"
      },
      "source": [
        "def MaxSubArray(A, low, high):\n",
        "    \n",
        "    if low == high:\n",
        "        return(low, high, A[low])\n",
        "    else:\n",
        "        mid = (low + high)//2\n",
        "        (leftLow, leftHigh, leftSum) = MaxSubArray(A, low, mid)\n",
        "        (rightLow, rightHigh, rightSum) = MaxSubArray(A, mid + 1, high)\n",
        "        (crossLow, crossHigh, crossSum) = MaxCrossSubArray(A, low, mid, high)\n",
        "        if leftSum >= rightSum and leftSum >= crossSum:\n",
        "            return (leftLow, leftHigh, leftSum)\n",
        "        elif rightSum >= leftSum and rightSum >= crossSum:\n",
        "            return (rightLow, rightHigh, rightSum)\n",
        "        else:\n",
        "            return (crossLow, crossHigh, crossSum)"
      ],
      "execution_count": 10,
      "outputs": []
    },
    {
      "cell_type": "code",
      "metadata": {
        "id": "s9rILmOmfpTJ"
      },
      "source": [
        "nu = [10,100,500,1000]\n",
        "ti = []\n",
        "\n",
        "for b in range(0,len(nu)):\n",
        "  A = np.random.randint(-50,50, nu[b])\n",
        "  start_time = time.time()\n",
        "  (low, high, sm) = MaxSubArray(A, 0, len(A)-1)\n",
        "  end_time = time.time()\n",
        "  time_elapsed = end_time - start_time\n",
        "  ti.append(time_elapsed)"
      ],
      "execution_count": 13,
      "outputs": []
    },
    {
      "cell_type": "code",
      "metadata": {
        "colab": {
          "base_uri": "https://localhost:8080/",
          "height": 300
        },
        "id": "WmTRU00giLy8",
        "outputId": "aaf1f214-9301-4a9f-bcb9-bae65549a153"
      },
      "source": [
        "c = 1/150000\n",
        "y_nlogn =[]\n",
        "\n",
        "plt.xscale(\"log\")\n",
        "plt.yscale(\"log\")\n",
        "plt.xlabel('Size or Number of values in an array')\n",
        "plt.ylabel('Time Complexity')\n",
        "\n",
        "\n",
        "plt.plot(nu, ti, label='Actual')\n",
        "\n",
        "y = nu*(np.log(nu))\n",
        "\n",
        "\n",
        "for i in y:\n",
        "  v = c*i\n",
        "  y_nlogn.append(v)\n",
        "\n",
        "\n",
        "\n",
        "\n",
        "\n",
        "plt.plot(nu, y_nlogn, label='Theorectical')\n",
        "\n",
        "\n",
        "plt.legend()\n",
        "\n",
        "\n"
      ],
      "execution_count": 18,
      "outputs": [
        {
          "output_type": "execute_result",
          "data": {
            "text/plain": [
              "<matplotlib.legend.Legend at 0x7fa0c7784350>"
            ]
          },
          "metadata": {},
          "execution_count": 18
        },
        {
          "output_type": "display_data",
          "data": {
            "image/png": "[encoded data removed]",
            "text/plain": [
              "<Figure size 432x288 with 1 Axes>"
            ]
          },
          "metadata": {
            "needs_background": "light"
          }
        }
      ]
    }
  ]
}